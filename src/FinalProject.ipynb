{
 "cells": [
  {
   "cell_type": "markdown",
   "metadata": {
    "vscode": {
     "languageId": "plaintext"
    }
   },
   "source": [
    "### imports:"
   ]
  },
  {
   "cell_type": "code",
   "execution_count": 1,
   "metadata": {},
   "outputs": [],
   "source": [
    "import os\n",
    "import torchaudio\n",
    "from torch.utils.data import Dataset\n",
    "import random"
   ]
  },
  {
   "cell_type": "markdown",
   "metadata": {},
   "source": [
    "### DATASET CLASS:"
   ]
  },
  {
   "cell_type": "code",
   "execution_count": null,
   "metadata": {},
   "outputs": [],
   "source": [
    "class AudioDataset(Dataset):\n",
    "    def __init__(self, root_dir, task=\"gender\", transform=None, n_persons=None, seed=42):\n",
    "        \"\"\"\n",
    "        Args:\n",
    "            root_dir (str): Path to the directory containing the audio files.\n",
    "            task (str): The task to perform. Options are \"gender\" or \"owner\".\n",
    "            transform (callable, optional): Optional transform to be applied on a sample.\n",
    "            n_persons (int, optional): Number of unique persons (studentIDs) to include for owner classification.\n",
    "            seed (int, optional): Seed for reproducibility when selecting N persons.\n",
    "        \"\"\"\n",
    "        self.root_dir = root_dir\n",
    "        self.task = task\n",
    "        self.transform = transform\n",
    "        self.n_persons = n_persons\n",
    "        self.seed = seed\n",
    "\n",
    "        self.data = []\n",
    "        self.student_ids = set()\n",
    "\n",
    "        # Load and parse filenames\n",
    "        for file in os.listdir(root_dir):\n",
    "            if file.endswith(\".mp3\"):\n",
    "                parts = file[:-4].split(\"_\")  # Remove .mp3 and split by _\n",
    "\n",
    "                # Validate file naming format\n",
    "                if len(parts) == 4 and parts[0].startswith(\"HW\") and \\\n",
    "                   (parts[1] == \"intro\" or parts[1].startswith(\"Q\")) and \\\n",
    "                   parts[3] in [\"male\", \"female\"]:\n",
    "\n",
    "                    try:\n",
    "                        homework_number = int(parts[0][2:])\n",
    "                        question_number = None if parts[1] == \"intro\" else int(parts[1][1:])\n",
    "                        student_id = parts[2]\n",
    "                        gender = parts[3]\n",
    "\n",
    "                        self.data.append({\n",
    "                            \"file_path\": os.path.join(root_dir, file),\n",
    "                            \"homework_number\": homework_number,\n",
    "                            \"question_number\": question_number,\n",
    "                            \"student_id\": student_id,\n",
    "                            \"gender\": gender\n",
    "                        })\n",
    "\n",
    "                        self.student_ids.add(student_id)\n",
    "                    except ValueError:\n",
    "                        # Skip files with invalid formats\n",
    "                        continue\n",
    "\n",
    "        if task == \"owner\" and n_persons is not None:\n",
    "            random.seed(seed)\n",
    "            selected_ids = random.sample(self.student_ids, n_persons)\n",
    "            self.data = [item for item in self.data if item[\"student_id\"] in selected_ids]\n",
    "\n",
    "    def __len__(self):\n",
    "        return len(self.data)\n",
    "\n",
    "    def __getitem__(self, idx):\n",
    "        sample = self.data[idx]\n",
    "        file_path = sample[\"file_path\"]\n",
    "\n",
    "        # Load audio\n",
    "        waveform, sample_rate = torchaudio.load(file_path)\n",
    "\n",
    "        # Apply transform if specified\n",
    "        if self.transform:\n",
    "            waveform = self.transform(waveform)\n",
    "\n",
    "        if self.task == \"gender\":\n",
    "            label = 0 if sample[\"gender\"] == \"male\" else 1\n",
    "        elif self.task == \"owner\":\n",
    "            label = sample[\"student_id\"]\n",
    "        else:\n",
    "            raise ValueError(\"Unsupported task. Use 'gender' or 'owner'.\")\n",
    "\n",
    "        return {\n",
    "            \"waveform\": waveform,\n",
    "            \"sample_rate\": sample_rate,\n",
    "            \"label\": label,\n",
    "            \"metadata\": sample\n",
    "        }"
   ]
  }
 ],
 "metadata": {
  "kernelspec": {
   "display_name": "tf",
   "language": "python",
   "name": "python3"
  },
  "language_info": {
   "codemirror_mode": {
    "name": "ipython",
    "version": 3
   },
   "file_extension": ".py",
   "mimetype": "text/x-python",
   "name": "python",
   "nbconvert_exporter": "python",
   "pygments_lexer": "ipython3",
   "version": "3.10.16"
  }
 },
 "nbformat": 4,
 "nbformat_minor": 2
}

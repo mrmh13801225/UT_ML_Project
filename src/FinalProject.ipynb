{
 "cells": [
  {
   "cell_type": "markdown",
   "metadata": {
    "vscode": {
     "languageId": "plaintext"
    }
   },
   "source": [
    "### imports:"
   ]
  },
  {
   "cell_type": "code",
   "execution_count": 9,
   "metadata": {},
   "outputs": [],
   "source": [
    "import os\n",
    "import torchaudio\n",
    "from torch.utils.data import Dataset\n",
    "import random\n",
    "import torch\n",
    "import torchaudio.transforms as T\n",
    "import noisereduce as nr\n",
    "from tqdm import tqdm\n",
    "import numpy as np\n",
    "import scipy.signal\n",
    "import librosa\n",
    "import matplotlib.pyplot as plt"
   ]
  },
  {
   "cell_type": "markdown",
   "metadata": {},
   "source": [
    "### DATASET CLASS:"
   ]
  },
  {
   "cell_type": "code",
   "execution_count": 35,
   "metadata": {},
   "outputs": [],
   "source": [
    "class AudioDataset(Dataset):\n",
    "    def __init__(self, root_dir, task=\"gender\", transform=None, feature_extractor=None, n_persons=None, seed=42, \n",
    "                 use_preprocessed=False, preprocessed_dir=\"preprocessed\",\n",
    "                 features_to_extract=None, segment_length=None, segment_overlap=None, **feature_params):\n",
    "        \"\"\"\n",
    "        Args:\n",
    "            root_dir (str): Path to the directory containing the audio files.\n",
    "            task (str): The task to perform. Options are \"gender\" or \"owner\".\n",
    "            transform (callable, optional): Optional transform to be applied on a sample.\n",
    "            feature_extractor (callable, optional): Function to extract features from the waveform.\n",
    "            n_persons (int, optional): Number of unique persons (studentIDs) to include for owner classification.\n",
    "            seed (int, optional): Seed for reproducibility when selecting N persons.\n",
    "            use_preprocessed (bool, optional): Whether to use preprocessed data if available.\n",
    "            preprocessed_dir (str, optional): Directory containing preprocessed features.\n",
    "        \"\"\"\n",
    "        self.root_dir = root_dir\n",
    "        self.task = task\n",
    "        self.transform = transform\n",
    "        self.feature_extractor = feature_extractor\n",
    "        self.n_persons = n_persons\n",
    "        self.seed = seed\n",
    "        self.use_preprocessed = use_preprocessed\n",
    "        self.preprocessed_dir = preprocessed_dir\n",
    "        self.features_to_extract = features_to_extract or []\n",
    "        self.segment_length = segment_length\n",
    "        self.segment_overlap = segment_overlap\n",
    "        self.feature_params = feature_params\n",
    "\n",
    "        self.data = []\n",
    "        self.student_ids = set()\n",
    "\n",
    "        # Load and parse filenames\n",
    "        for file in os.listdir(root_dir):\n",
    "            if file.endswith(\".mp3\"):\n",
    "                parts = file[:-4].split(\"_\")  # Remove .mp3 and split by _\n",
    "\n",
    "                # Validate file naming format\n",
    "                if len(parts) == 4 and parts[0].startswith(\"HW\") and \\\n",
    "                   (parts[1] == \"intro\" or parts[1].startswith(\"Q\")) and \\\n",
    "                   parts[3] in [\"male\", \"female\"]:\n",
    "\n",
    "                    try:\n",
    "                        homework_number = int(parts[0][2:])\n",
    "                        question_number = None if parts[1] == \"intro\" else int(parts[1][1:])\n",
    "                        student_id = parts[2]\n",
    "                        gender = parts[3]\n",
    "\n",
    "                        self.data.append({\n",
    "                            \"file_path\": os.path.join(root_dir, file),\n",
    "                            \"homework_number\": homework_number,\n",
    "                            \"question_number\": question_number,\n",
    "                            \"student_id\": student_id,\n",
    "                            \"gender\": gender\n",
    "                        })\n",
    "\n",
    "                        self.student_ids.add(student_id)\n",
    "                    except ValueError:\n",
    "                        # Skip files with invalid formats\n",
    "                        continue\n",
    "\n",
    "        if task == \"owner\" and n_persons is not None:\n",
    "            random.seed(seed)\n",
    "            selected_ids = random.sample(self.student_ids, n_persons)\n",
    "            self.data = [item for item in self.data if item[\"student_id\"] in selected_ids]\n",
    "\n",
    "    def __len__(self):\n",
    "        return len(self.data)\n",
    "\n",
    "    def __getitem__(self, idx):\n",
    "        sample = self.data[idx]\n",
    "\n",
    "        if self.use_preprocessed and self.preprocessed_dir:\n",
    "            preprocessed_path = os.path.join(self.preprocessed_dir, os.path.basename(sample[\"file_path\"]))\n",
    "            if os.path.exists(preprocessed_path):\n",
    "                return torchaudio.load(preprocessed_path)\n",
    "\n",
    "        file_path = sample[\"file_path\"]\n",
    "\n",
    "        # Load audio\n",
    "        waveform, sample_rate = torchaudio.load(file_path)\n",
    "\n",
    "        # Resample to a consistent rate\n",
    "        target_sample_rate = 16000\n",
    "        if sample_rate != target_sample_rate:\n",
    "            resampler = T.Resample(orig_freq=sample_rate, new_freq=target_sample_rate)\n",
    "            waveform = resampler(waveform)\n",
    "            sample_rate = target_sample_rate\n",
    "\n",
    "        # Apply noise reduction\n",
    "        waveform = nr.reduce_noise(y=waveform.numpy(), sr=sample_rate)\n",
    "        waveform = torch.tensor(waveform)\n",
    "\n",
    "        # Normalize waveform\n",
    "        waveform = (waveform - waveform.mean()) / (waveform.std() + 1e-7)\n",
    "\n",
    "        # Apply transform if specified\n",
    "        if self.transform:\n",
    "            waveform = self.transform(waveform)\n",
    "\n",
    "        # Extract features if feature_extractor is specified\n",
    "        if self.feature_extractor:\n",
    "            features = self.feature_extractor(waveform, sample_rate)\n",
    "        else:\n",
    "            features = waveform\n",
    "\n",
    "        if self.task == \"gender\":\n",
    "            label = 0 if sample[\"gender\"] == \"male\" else 1\n",
    "        elif self.task == \"owner\":\n",
    "            label = sample[\"student_id\"]\n",
    "        else:\n",
    "            raise ValueError(\"Unsupported task. Use 'gender' or 'owner'.\")\n",
    "\n",
    "        return {\n",
    "            \"features\": features,\n",
    "            \"sample_rate\": sample_rate,\n",
    "            \"label\": label,\n",
    "            \"metadata\": sample\n",
    "        }\n",
    "    \n",
    "    def wiener_filter(self, noisy_signal, sr, mysize=29, noise_std=0.5):\n",
    "        return scipy.signal.wiener(noisy_signal, mysize=mysize, noise=noise_std)\n",
    "\n",
    "    def preprocess_and_save(self):\n",
    "        \"\"\"\n",
    "        Preprocess and save features to disk as MP3 files to avoid reloading and reprocessing large datasets.\n",
    "        \"\"\"\n",
    "        os.makedirs(self.preprocessed_dir, exist_ok=True)\n",
    "        for sample in tqdm(self.data, desc=\"Processing Audio Files\"):\n",
    "            file_path = sample[\"file_path\"]\n",
    "            waveform, sample_rate = torchaudio.load(file_path)\n",
    "\n",
    "            # Resample to a consistent rate\n",
    "            target_sample_rate = 44100\n",
    "            if sample_rate != target_sample_rate:\n",
    "                resampler = T.Resample(orig_freq=sample_rate, new_freq=target_sample_rate)\n",
    "                waveform = resampler(waveform)\n",
    "                sample_rate = target_sample_rate\n",
    "\n",
    "            # # Apply noise reduction\n",
    "\n",
    "            # # Normalize waveform\n",
    "            waveform = (waveform - waveform.mean()) / (waveform.std() + 1e-7)\n",
    "            \n",
    "            waveform = self.wiener_filter(noisy_signal=waveform.numpy(), sr=target_sample_rate)\n",
    "            waveform = torch.tensor(waveform)\n",
    "            # Convert to Pydub AudioSegment for MP3 saving\n",
    "\n",
    "            # Save preprocessed audio as MP3\n",
    "            save_path = os.path.join(self.preprocessed_dir, os.path.basename(file_path))\n",
    "            torchaudio.save(save_path, waveform, target_sample_rate)\n",
    "            \n",
    "    def plot_audio_lengths(self):\n",
    "        lengths = []\n",
    "        for sample in tqdm(self.data, desc=\"Processing Audio Files\"):\n",
    "            file_path = sample[\"file_path\"]\n",
    "            waveform, sample_rate = torchaudio.load(file_path)\n",
    "            length = waveform.size(1) / sample_rate\n",
    "            lengths.append(length)\n",
    "\n",
    "        plt.figure(figsize=(18, 9))\n",
    "        plt.hist(lengths, bins=100, edgecolor='black')\n",
    "        plt.xlabel('Length (seconds)')\n",
    "        plt.ylabel('Number of Files')\n",
    "        plt.title('Histogram of Audio File Lengths')\n",
    "        plt.show()\n",
    "        \n",
    "        min_length = min(lengths)\n",
    "        print(f\"Minimum audio length: {min_length:.2f} seconds\")\n",
    "        \n",
    "\n"
   ]
  },
  {
   "cell_type": "code",
   "execution_count": 39,
   "metadata": {},
   "outputs": [
    {
     "name": "stdout",
     "output_type": "stream",
     "text": [
      "0\n",
      "0\n"
     ]
    },
    {
     "ename": "",
     "evalue": "",
     "output_type": "error",
     "traceback": [
      "\u001b[1;31mThe Kernel crashed while executing code in the current cell or a previous cell. \n",
      "\u001b[1;31mPlease review the code in the cell(s) to identify a possible cause of the failure. \n",
      "\u001b[1;31mClick <a href='https://aka.ms/vscodeJupyterKernelCrash'>here</a> for more info. \n",
      "\u001b[1;31mView Jupyter <a href='command:jupyter.viewOutput'>log</a> for further details."
     ]
    }
   ],
   "source": [
    "import torch\n",
    "\n",
    "# Clear GPU memory\n",
    "torch.cuda.empty_cache()\n",
    "\n",
    "# To check reserved memory\n",
    "print(torch.cuda.memory_reserved())\n",
    "\n",
    "# To check allocated memory\n",
    "print(torch.cuda.memory_allocated())\n"
   ]
  },
  {
   "cell_type": "code",
   "execution_count": 36,
   "metadata": {},
   "outputs": [],
   "source": [
    "myData = AudioDataset(\"../../HW1_M\", preprocessed_dir=\"../../preprocessed\")"
   ]
  },
  {
   "cell_type": "code",
   "execution_count": 37,
   "metadata": {},
   "outputs": [
    {
     "name": "stderr",
     "output_type": "stream",
     "text": [
      "Processing Audio Files:  14%|█▍        | 97/676 [18:27<1:50:08, 11.41s/it]\n"
     ]
    },
    {
     "ename": "MemoryError",
     "evalue": "Unable to allocate 7.82 GiB for an array with shape (30, 34992000) and data type float64",
     "output_type": "error",
     "traceback": [
      "\u001b[1;31m---------------------------------------------------------------------------\u001b[0m",
      "\u001b[1;31mMemoryError\u001b[0m                               Traceback (most recent call last)",
      "Cell \u001b[1;32mIn[37], line 1\u001b[0m\n\u001b[1;32m----> 1\u001b[0m \u001b[43mmyData\u001b[49m\u001b[38;5;241;43m.\u001b[39;49m\u001b[43mpreprocess_and_save\u001b[49m\u001b[43m(\u001b[49m\u001b[43m)\u001b[49m\n",
      "Cell \u001b[1;32mIn[35], line 144\u001b[0m, in \u001b[0;36mAudioDataset.preprocess_and_save\u001b[1;34m(self)\u001b[0m\n\u001b[0;32m    139\u001b[0m \u001b[38;5;66;03m# # Apply noise reduction\u001b[39;00m\n\u001b[0;32m    140\u001b[0m \n\u001b[0;32m    141\u001b[0m \u001b[38;5;66;03m# # Normalize waveform\u001b[39;00m\n\u001b[0;32m    142\u001b[0m waveform \u001b[38;5;241m=\u001b[39m (waveform \u001b[38;5;241m-\u001b[39m waveform\u001b[38;5;241m.\u001b[39mmean()) \u001b[38;5;241m/\u001b[39m (waveform\u001b[38;5;241m.\u001b[39mstd() \u001b[38;5;241m+\u001b[39m \u001b[38;5;241m1e-7\u001b[39m)\n\u001b[1;32m--> 144\u001b[0m waveform \u001b[38;5;241m=\u001b[39m \u001b[38;5;28;43mself\u001b[39;49m\u001b[38;5;241;43m.\u001b[39;49m\u001b[43mwiener_filter\u001b[49m\u001b[43m(\u001b[49m\u001b[43mnoisy_signal\u001b[49m\u001b[38;5;241;43m=\u001b[39;49m\u001b[43mwaveform\u001b[49m\u001b[38;5;241;43m.\u001b[39;49m\u001b[43mnumpy\u001b[49m\u001b[43m(\u001b[49m\u001b[43m)\u001b[49m\u001b[43m,\u001b[49m\u001b[43m \u001b[49m\u001b[43msr\u001b[49m\u001b[38;5;241;43m=\u001b[39;49m\u001b[43mtarget_sample_rate\u001b[49m\u001b[43m)\u001b[49m\n\u001b[0;32m    145\u001b[0m waveform \u001b[38;5;241m=\u001b[39m torch\u001b[38;5;241m.\u001b[39mtensor(waveform)\n\u001b[0;32m    146\u001b[0m \u001b[38;5;66;03m# Convert to Pydub AudioSegment for MP3 saving\u001b[39;00m\n\u001b[0;32m    147\u001b[0m \n\u001b[0;32m    148\u001b[0m \u001b[38;5;66;03m# Save preprocessed audio as MP3\u001b[39;00m\n",
      "Cell \u001b[1;32mIn[35], line 121\u001b[0m, in \u001b[0;36mAudioDataset.wiener_filter\u001b[1;34m(self, noisy_signal, sr, mysize, noise_std)\u001b[0m\n\u001b[0;32m    120\u001b[0m \u001b[38;5;28;01mdef\u001b[39;00m \u001b[38;5;21mwiener_filter\u001b[39m(\u001b[38;5;28mself\u001b[39m, noisy_signal, sr, mysize\u001b[38;5;241m=\u001b[39m\u001b[38;5;241m29\u001b[39m, noise_std\u001b[38;5;241m=\u001b[39m\u001b[38;5;241m0.5\u001b[39m):\n\u001b[1;32m--> 121\u001b[0m     \u001b[38;5;28;01mreturn\u001b[39;00m \u001b[43mscipy\u001b[49m\u001b[38;5;241;43m.\u001b[39;49m\u001b[43msignal\u001b[49m\u001b[38;5;241;43m.\u001b[39;49m\u001b[43mwiener\u001b[49m\u001b[43m(\u001b[49m\u001b[43mnoisy_signal\u001b[49m\u001b[43m,\u001b[49m\u001b[43m \u001b[49m\u001b[43mmysize\u001b[49m\u001b[38;5;241;43m=\u001b[39;49m\u001b[43mmysize\u001b[49m\u001b[43m,\u001b[49m\u001b[43m \u001b[49m\u001b[43mnoise\u001b[49m\u001b[38;5;241;43m=\u001b[39;49m\u001b[43mnoise_std\u001b[49m\u001b[43m)\u001b[49m\n",
      "File \u001b[1;32mc:\\Users\\mmd\\.conda\\envs\\tf\\lib\\site-packages\\scipy\\signal\\_signaltools.py:1637\u001b[0m, in \u001b[0;36mwiener\u001b[1;34m(im, mysize, noise)\u001b[0m\n\u001b[0;32m   1635\u001b[0m \u001b[38;5;66;03m# Estimate the local mean\u001b[39;00m\n\u001b[0;32m   1636\u001b[0m size \u001b[38;5;241m=\u001b[39m math\u001b[38;5;241m.\u001b[39mprod(mysize)\n\u001b[1;32m-> 1637\u001b[0m lMean \u001b[38;5;241m=\u001b[39m \u001b[43mcorrelate\u001b[49m\u001b[43m(\u001b[49m\u001b[43mim\u001b[49m\u001b[43m,\u001b[49m\u001b[43m \u001b[49m\u001b[43mnp\u001b[49m\u001b[38;5;241;43m.\u001b[39;49m\u001b[43mones\u001b[49m\u001b[43m(\u001b[49m\u001b[43mmysize\u001b[49m\u001b[43m)\u001b[49m\u001b[43m,\u001b[49m\u001b[43m \u001b[49m\u001b[38;5;124;43m'\u001b[39;49m\u001b[38;5;124;43msame\u001b[39;49m\u001b[38;5;124;43m'\u001b[39;49m\u001b[43m)\u001b[49m \u001b[38;5;241m/\u001b[39m size\n\u001b[0;32m   1639\u001b[0m \u001b[38;5;66;03m# Estimate the local variance\u001b[39;00m\n\u001b[0;32m   1640\u001b[0m lVar \u001b[38;5;241m=\u001b[39m (correlate(im \u001b[38;5;241m*\u001b[39m\u001b[38;5;241m*\u001b[39m \u001b[38;5;241m2\u001b[39m, np\u001b[38;5;241m.\u001b[39mones(mysize), \u001b[38;5;124m'\u001b[39m\u001b[38;5;124msame\u001b[39m\u001b[38;5;124m'\u001b[39m) \u001b[38;5;241m/\u001b[39m size \u001b[38;5;241m-\u001b[39m lMean \u001b[38;5;241m*\u001b[39m\u001b[38;5;241m*\u001b[39m \u001b[38;5;241m2\u001b[39m)\n",
      "File \u001b[1;32mc:\\Users\\mmd\\.conda\\envs\\tf\\lib\\site-packages\\scipy\\signal\\_signaltools.py:247\u001b[0m, in \u001b[0;36mcorrelate\u001b[1;34m(in1, in2, mode, method)\u001b[0m\n\u001b[0;32m    245\u001b[0m \u001b[38;5;66;03m# this either calls fftconvolve or this function with method=='direct'\u001b[39;00m\n\u001b[0;32m    246\u001b[0m \u001b[38;5;28;01mif\u001b[39;00m method \u001b[38;5;129;01min\u001b[39;00m (\u001b[38;5;124m'\u001b[39m\u001b[38;5;124mfft\u001b[39m\u001b[38;5;124m'\u001b[39m, \u001b[38;5;124m'\u001b[39m\u001b[38;5;124mauto\u001b[39m\u001b[38;5;124m'\u001b[39m):\n\u001b[1;32m--> 247\u001b[0m     \u001b[38;5;28;01mreturn\u001b[39;00m \u001b[43mconvolve\u001b[49m\u001b[43m(\u001b[49m\u001b[43min1\u001b[49m\u001b[43m,\u001b[49m\u001b[43m \u001b[49m\u001b[43m_reverse_and_conj\u001b[49m\u001b[43m(\u001b[49m\u001b[43min2\u001b[49m\u001b[43m)\u001b[49m\u001b[43m,\u001b[49m\u001b[43m \u001b[49m\u001b[43mmode\u001b[49m\u001b[43m,\u001b[49m\u001b[43m \u001b[49m\u001b[43mmethod\u001b[49m\u001b[43m)\u001b[49m\n\u001b[0;32m    249\u001b[0m \u001b[38;5;28;01melif\u001b[39;00m method \u001b[38;5;241m==\u001b[39m \u001b[38;5;124m'\u001b[39m\u001b[38;5;124mdirect\u001b[39m\u001b[38;5;124m'\u001b[39m:\n\u001b[0;32m    250\u001b[0m     \u001b[38;5;66;03m# fastpath to faster numpy.correlate for 1d inputs when possible\u001b[39;00m\n\u001b[0;32m    251\u001b[0m     \u001b[38;5;28;01mif\u001b[39;00m _np_conv_ok(in1, in2, mode):\n",
      "File \u001b[1;32mc:\\Users\\mmd\\.conda\\envs\\tf\\lib\\site-packages\\scipy\\signal\\_signaltools.py:1419\u001b[0m, in \u001b[0;36mconvolve\u001b[1;34m(in1, in2, mode, method)\u001b[0m\n\u001b[0;32m   1416\u001b[0m     method \u001b[38;5;241m=\u001b[39m choose_conv_method(volume, kernel, mode\u001b[38;5;241m=\u001b[39mmode)\n\u001b[0;32m   1418\u001b[0m \u001b[38;5;28;01mif\u001b[39;00m method \u001b[38;5;241m==\u001b[39m \u001b[38;5;124m'\u001b[39m\u001b[38;5;124mfft\u001b[39m\u001b[38;5;124m'\u001b[39m:\n\u001b[1;32m-> 1419\u001b[0m     out \u001b[38;5;241m=\u001b[39m \u001b[43mfftconvolve\u001b[49m\u001b[43m(\u001b[49m\u001b[43mvolume\u001b[49m\u001b[43m,\u001b[49m\u001b[43m \u001b[49m\u001b[43mkernel\u001b[49m\u001b[43m,\u001b[49m\u001b[43m \u001b[49m\u001b[43mmode\u001b[49m\u001b[38;5;241;43m=\u001b[39;49m\u001b[43mmode\u001b[49m\u001b[43m)\u001b[49m\n\u001b[0;32m   1420\u001b[0m     result_type \u001b[38;5;241m=\u001b[39m np\u001b[38;5;241m.\u001b[39mresult_type(volume, kernel)\n\u001b[0;32m   1421\u001b[0m     \u001b[38;5;28;01mif\u001b[39;00m result_type\u001b[38;5;241m.\u001b[39mkind \u001b[38;5;129;01min\u001b[39;00m {\u001b[38;5;124m'\u001b[39m\u001b[38;5;124mu\u001b[39m\u001b[38;5;124m'\u001b[39m, \u001b[38;5;124m'\u001b[39m\u001b[38;5;124mi\u001b[39m\u001b[38;5;124m'\u001b[39m}:\n",
      "File \u001b[1;32mc:\\Users\\mmd\\.conda\\envs\\tf\\lib\\site-packages\\scipy\\signal\\_signaltools.py:675\u001b[0m, in \u001b[0;36mfftconvolve\u001b[1;34m(in1, in2, mode, axes)\u001b[0m\n\u001b[0;32m    670\u001b[0m s2 \u001b[38;5;241m=\u001b[39m in2\u001b[38;5;241m.\u001b[39mshape\n\u001b[0;32m    672\u001b[0m shape \u001b[38;5;241m=\u001b[39m [\u001b[38;5;28mmax\u001b[39m((s1[i], s2[i])) \u001b[38;5;28;01mif\u001b[39;00m i \u001b[38;5;129;01mnot\u001b[39;00m \u001b[38;5;129;01min\u001b[39;00m axes \u001b[38;5;28;01melse\u001b[39;00m s1[i] \u001b[38;5;241m+\u001b[39m s2[i] \u001b[38;5;241m-\u001b[39m \u001b[38;5;241m1\u001b[39m\n\u001b[0;32m    673\u001b[0m          \u001b[38;5;28;01mfor\u001b[39;00m i \u001b[38;5;129;01min\u001b[39;00m \u001b[38;5;28mrange\u001b[39m(in1\u001b[38;5;241m.\u001b[39mndim)]\n\u001b[1;32m--> 675\u001b[0m ret \u001b[38;5;241m=\u001b[39m \u001b[43m_freq_domain_conv\u001b[49m\u001b[43m(\u001b[49m\u001b[43min1\u001b[49m\u001b[43m,\u001b[49m\u001b[43m \u001b[49m\u001b[43min2\u001b[49m\u001b[43m,\u001b[49m\u001b[43m \u001b[49m\u001b[43maxes\u001b[49m\u001b[43m,\u001b[49m\u001b[43m \u001b[49m\u001b[43mshape\u001b[49m\u001b[43m,\u001b[49m\u001b[43m \u001b[49m\u001b[43mcalc_fast_len\u001b[49m\u001b[38;5;241;43m=\u001b[39;49m\u001b[38;5;28;43;01mTrue\u001b[39;49;00m\u001b[43m)\u001b[49m\n\u001b[0;32m    677\u001b[0m \u001b[38;5;28;01mreturn\u001b[39;00m _apply_conv_mode(ret, s1, s2, mode, axes)\n",
      "File \u001b[1;32mc:\\Users\\mmd\\.conda\\envs\\tf\\lib\\site-packages\\scipy\\signal\\_signaltools.py:515\u001b[0m, in \u001b[0;36m_freq_domain_conv\u001b[1;34m(in1, in2, axes, shape, calc_fast_len)\u001b[0m\n\u001b[0;32m    512\u001b[0m sp1 \u001b[38;5;241m=\u001b[39m fft(in1, fshape, axes\u001b[38;5;241m=\u001b[39maxes)\n\u001b[0;32m    513\u001b[0m sp2 \u001b[38;5;241m=\u001b[39m fft(in2, fshape, axes\u001b[38;5;241m=\u001b[39maxes)\n\u001b[1;32m--> 515\u001b[0m ret \u001b[38;5;241m=\u001b[39m \u001b[43mifft\u001b[49m\u001b[43m(\u001b[49m\u001b[43msp1\u001b[49m\u001b[43m \u001b[49m\u001b[38;5;241;43m*\u001b[39;49m\u001b[43m \u001b[49m\u001b[43msp2\u001b[49m\u001b[43m,\u001b[49m\u001b[43m \u001b[49m\u001b[43mfshape\u001b[49m\u001b[43m,\u001b[49m\u001b[43m \u001b[49m\u001b[43maxes\u001b[49m\u001b[38;5;241;43m=\u001b[39;49m\u001b[43maxes\u001b[49m\u001b[43m)\u001b[49m\n\u001b[0;32m    517\u001b[0m \u001b[38;5;28;01mif\u001b[39;00m calc_fast_len:\n\u001b[0;32m    518\u001b[0m     fslice \u001b[38;5;241m=\u001b[39m \u001b[38;5;28mtuple\u001b[39m([\u001b[38;5;28mslice\u001b[39m(sz) \u001b[38;5;28;01mfor\u001b[39;00m sz \u001b[38;5;129;01min\u001b[39;00m shape])\n",
      "File \u001b[1;32mc:\\Users\\mmd\\.conda\\envs\\tf\\lib\\site-packages\\scipy\\fft\\_backend.py:28\u001b[0m, in \u001b[0;36m_ScipyBackend.__ua_function__\u001b[1;34m(method, args, kwargs)\u001b[0m\n\u001b[0;32m     26\u001b[0m \u001b[38;5;28;01mif\u001b[39;00m fn \u001b[38;5;129;01mis\u001b[39;00m \u001b[38;5;28;01mNone\u001b[39;00m:\n\u001b[0;32m     27\u001b[0m     \u001b[38;5;28;01mreturn\u001b[39;00m \u001b[38;5;28mNotImplemented\u001b[39m\n\u001b[1;32m---> 28\u001b[0m \u001b[38;5;28;01mreturn\u001b[39;00m fn(\u001b[38;5;241m*\u001b[39margs, \u001b[38;5;241m*\u001b[39m\u001b[38;5;241m*\u001b[39mkwargs)\n",
      "File \u001b[1;32mc:\\Users\\mmd\\.conda\\envs\\tf\\lib\\site-packages\\scipy\\fft\\_basic_backend.py:132\u001b[0m, in \u001b[0;36mirfftn\u001b[1;34m(x, s, axes, norm, overwrite_x, workers, plan)\u001b[0m\n\u001b[0;32m    130\u001b[0m \u001b[38;5;28;01mdef\u001b[39;00m \u001b[38;5;21mirfftn\u001b[39m(x, s\u001b[38;5;241m=\u001b[39m\u001b[38;5;28;01mNone\u001b[39;00m, axes\u001b[38;5;241m=\u001b[39m\u001b[38;5;28;01mNone\u001b[39;00m, norm\u001b[38;5;241m=\u001b[39m\u001b[38;5;28;01mNone\u001b[39;00m,\n\u001b[0;32m    131\u001b[0m            overwrite_x\u001b[38;5;241m=\u001b[39m\u001b[38;5;28;01mFalse\u001b[39;00m, workers\u001b[38;5;241m=\u001b[39m\u001b[38;5;28;01mNone\u001b[39;00m, \u001b[38;5;241m*\u001b[39m, plan\u001b[38;5;241m=\u001b[39m\u001b[38;5;28;01mNone\u001b[39;00m):\n\u001b[1;32m--> 132\u001b[0m     \u001b[38;5;28;01mreturn\u001b[39;00m \u001b[43m_execute_nD\u001b[49m\u001b[43m(\u001b[49m\u001b[38;5;124;43m'\u001b[39;49m\u001b[38;5;124;43mirfftn\u001b[39;49m\u001b[38;5;124;43m'\u001b[39;49m\u001b[43m,\u001b[49m\u001b[43m \u001b[49m\u001b[43m_pocketfft\u001b[49m\u001b[38;5;241;43m.\u001b[39;49m\u001b[43mirfftn\u001b[49m\u001b[43m,\u001b[49m\u001b[43m \u001b[49m\u001b[43mx\u001b[49m\u001b[43m,\u001b[49m\u001b[43m \u001b[49m\u001b[43ms\u001b[49m\u001b[38;5;241;43m=\u001b[39;49m\u001b[43ms\u001b[49m\u001b[43m,\u001b[49m\u001b[43m \u001b[49m\u001b[43maxes\u001b[49m\u001b[38;5;241;43m=\u001b[39;49m\u001b[43maxes\u001b[49m\u001b[43m,\u001b[49m\u001b[43m \u001b[49m\u001b[43mnorm\u001b[49m\u001b[38;5;241;43m=\u001b[39;49m\u001b[43mnorm\u001b[49m\u001b[43m,\u001b[49m\n\u001b[0;32m    133\u001b[0m \u001b[43m                       \u001b[49m\u001b[43moverwrite_x\u001b[49m\u001b[38;5;241;43m=\u001b[39;49m\u001b[43moverwrite_x\u001b[49m\u001b[43m,\u001b[49m\u001b[43m \u001b[49m\u001b[43mworkers\u001b[49m\u001b[38;5;241;43m=\u001b[39;49m\u001b[43mworkers\u001b[49m\u001b[43m,\u001b[49m\u001b[43m \u001b[49m\u001b[43mplan\u001b[49m\u001b[38;5;241;43m=\u001b[39;49m\u001b[43mplan\u001b[49m\u001b[43m)\u001b[49m\n",
      "File \u001b[1;32mc:\\Users\\mmd\\.conda\\envs\\tf\\lib\\site-packages\\scipy\\fft\\_basic_backend.py:47\u001b[0m, in \u001b[0;36m_execute_nD\u001b[1;34m(func_str, pocketfft_func, x, s, axes, norm, overwrite_x, workers, plan)\u001b[0m\n\u001b[0;32m     45\u001b[0m \u001b[38;5;28;01mif\u001b[39;00m is_numpy(xp):\n\u001b[0;32m     46\u001b[0m     x \u001b[38;5;241m=\u001b[39m np\u001b[38;5;241m.\u001b[39masarray(x)\n\u001b[1;32m---> 47\u001b[0m     \u001b[38;5;28;01mreturn\u001b[39;00m \u001b[43mpocketfft_func\u001b[49m\u001b[43m(\u001b[49m\u001b[43mx\u001b[49m\u001b[43m,\u001b[49m\u001b[43m \u001b[49m\u001b[43ms\u001b[49m\u001b[38;5;241;43m=\u001b[39;49m\u001b[43ms\u001b[49m\u001b[43m,\u001b[49m\u001b[43m \u001b[49m\u001b[43maxes\u001b[49m\u001b[38;5;241;43m=\u001b[39;49m\u001b[43maxes\u001b[49m\u001b[43m,\u001b[49m\u001b[43m \u001b[49m\u001b[43mnorm\u001b[49m\u001b[38;5;241;43m=\u001b[39;49m\u001b[43mnorm\u001b[49m\u001b[43m,\u001b[49m\n\u001b[0;32m     48\u001b[0m \u001b[43m                          \u001b[49m\u001b[43moverwrite_x\u001b[49m\u001b[38;5;241;43m=\u001b[39;49m\u001b[43moverwrite_x\u001b[49m\u001b[43m,\u001b[49m\u001b[43m \u001b[49m\u001b[43mworkers\u001b[49m\u001b[38;5;241;43m=\u001b[39;49m\u001b[43mworkers\u001b[49m\u001b[43m,\u001b[49m\u001b[43m \u001b[49m\u001b[43mplan\u001b[49m\u001b[38;5;241;43m=\u001b[39;49m\u001b[43mplan\u001b[49m\u001b[43m)\u001b[49m\n\u001b[0;32m     50\u001b[0m norm \u001b[38;5;241m=\u001b[39m _validate_fft_args(workers, plan, norm)\n\u001b[0;32m     51\u001b[0m \u001b[38;5;28;01mif\u001b[39;00m \u001b[38;5;28mhasattr\u001b[39m(xp, \u001b[38;5;124m'\u001b[39m\u001b[38;5;124mfft\u001b[39m\u001b[38;5;124m'\u001b[39m):\n",
      "File \u001b[1;32mc:\\Users\\mmd\\.conda\\envs\\tf\\lib\\site-packages\\scipy\\fft\\_pocketfft\\basic.py:218\u001b[0m, in \u001b[0;36mc2rn\u001b[1;34m(forward, x, s, axes, norm, overwrite_x, workers, plan)\u001b[0m\n\u001b[0;32m    215\u001b[0m tmp, _ \u001b[38;5;241m=\u001b[39m \u001b[38;5;28mtuple\u001b[39m(_fix_shape(tmp, shape, axes))\n\u001b[0;32m    217\u001b[0m \u001b[38;5;66;03m# Note: overwrite_x is not utilized\u001b[39;00m\n\u001b[1;32m--> 218\u001b[0m \u001b[38;5;28;01mreturn\u001b[39;00m \u001b[43mpfft\u001b[49m\u001b[38;5;241;43m.\u001b[39;49m\u001b[43mc2r\u001b[49m\u001b[43m(\u001b[49m\u001b[43mtmp\u001b[49m\u001b[43m,\u001b[49m\u001b[43m \u001b[49m\u001b[43maxes\u001b[49m\u001b[43m,\u001b[49m\u001b[43m \u001b[49m\u001b[43mlastsize\u001b[49m\u001b[43m,\u001b[49m\u001b[43m \u001b[49m\u001b[43mforward\u001b[49m\u001b[43m,\u001b[49m\u001b[43m \u001b[49m\u001b[43mnorm\u001b[49m\u001b[43m,\u001b[49m\u001b[43m \u001b[49m\u001b[38;5;28;43;01mNone\u001b[39;49;00m\u001b[43m,\u001b[49m\u001b[43m \u001b[49m\u001b[43mworkers\u001b[49m\u001b[43m)\u001b[49m\n",
      "\u001b[1;31mMemoryError\u001b[0m: Unable to allocate 7.82 GiB for an array with shape (30, 34992000) and data type float64"
     ]
    }
   ],
   "source": [
    "myData.preprocess_and_save()"
   ]
  },
  {
   "cell_type": "code",
   "execution_count": 21,
   "metadata": {},
   "outputs": [
    {
     "name": "stderr",
     "output_type": "stream",
     "text": [
      "Processing Audio Files: 100%|██████████| 676/676 [06:31<00:00,  1.73it/s]\n"
     ]
    },
    {
     "data": {
      "image/png": "[encoded data removed]",
      "text/plain": [
       "<Figure size 1800x900 with 1 Axes>"
      ]
     },
     "metadata": {},
     "output_type": "display_data"
    },
    {
     "name": "stdout",
     "output_type": "stream",
     "text": [
      "Minimum audio length: 10.87 seconds\n"
     ]
    }
   ],
   "source": [
    "myData.plot_audio_lengths()"
   ]
  },
  {
   "cell_type": "code",
   "execution_count": null,
   "metadata": {},
   "outputs": [],
   "source": []
  }
 ],
 "metadata": {
  "kernelspec": {
   "display_name": "tf",
   "language": "python",
   "name": "python3"
  },
  "language_info": {
   "codemirror_mode": {
    "name": "ipython",
    "version": 3
   },
   "file_extension": ".py",
   "mimetype": "text/x-python",
   "name": "python",
   "nbconvert_exporter": "python",
   "pygments_lexer": "ipython3",
   "version": "3.10.16"
  }
 },
 "nbformat": 4,
 "nbformat_minor": 2
}
